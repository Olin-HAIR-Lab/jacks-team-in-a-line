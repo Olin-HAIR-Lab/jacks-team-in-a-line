{
 "cells": [
  {
   "cell_type": "code",
   "execution_count": 1,
   "metadata": {},
   "outputs": [
    {
     "name": "stdout",
     "output_type": "stream",
     "text": [
      "4\n",
      "Glaucemfacken\n"
     ]
    }
   ],
   "source": [
    "leavhul=[1,2,3,4,5,6,7,8,9]\n",
    "print(leavhul[3])\n",
    "leavhul.insert(3+1,\"Glaucemfacken\")\n",
    "print(leavhul[3+1])"
   ]
  },
  {
   "cell_type": "code",
   "execution_count": 2,
   "metadata": {},
   "outputs": [
    {
     "name": "stdout",
     "output_type": "stream",
     "text": [
      "[(0, -0.1), (0, 0.1), (-0.1, 0), (0.1, 0), (0, 0), (-0.1, -0.1), (0.1, 0.1), (-0.1, 0.1), (0.1, -0.1)]\n"
     ]
    }
   ],
   "source": [
    "pos_1=(0,0)\n",
    "neighbors = [(0, -.1), (0, .1), (-.1, 0), (.1, 0), (0,0), \\\n",
    "                            (-.1, -.1), (.1, .1), (-.1, .1), (.1, -.1)]\n",
    "hitbox_1 = [tuple(map(sum, zip(pos, n))) for n in neighbors]\n",
    "print(hitbox)\n",
    "pos_2=(0,0.1)\n",
    "hitbox_2 = [tuple(map(sum, zip(pos, n))) for n in neighbors]\n",
    "hitboxes = []\n",
    "hitboxes += hitbox_1\n",
    "hitboxes += hitbox_2\n",
    "duplicates = [x for x in hitboxes if hitboxes.count(x) > 2]"
   ]
  }
 ],
 "metadata": {
  "kernelspec": {
   "display_name": "Python 3",
   "language": "python",
   "name": "python3"
  },
  "language_info": {
   "codemirror_mode": {
    "name": "ipython",
    "version": 3
   },
   "file_extension": ".py",
   "mimetype": "text/x-python",
   "name": "python",
   "nbconvert_exporter": "python",
   "pygments_lexer": "ipython3",
   "version": "3.10.6"
  },
  "orig_nbformat": 4
 },
 "nbformat": 4,
 "nbformat_minor": 2
}
